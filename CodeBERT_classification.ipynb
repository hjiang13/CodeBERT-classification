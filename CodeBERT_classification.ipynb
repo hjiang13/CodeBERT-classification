{
  "nbformat": 4,
  "nbformat_minor": 0,
  "metadata": {
    "colab": {
      "provenance": [],
      "gpuType": "T4",
      "authorship_tag": "ABX9TyPjrvya+xXa513bmYZxybtx",
      "include_colab_link": true
    },
    "kernelspec": {
      "name": "python3",
      "display_name": "Python 3"
    },
    "language_info": {
      "name": "python"
    },
    "accelerator": "GPU"
  },
  "cells": [
    {
      "cell_type": "markdown",
      "metadata": {
        "id": "view-in-github",
        "colab_type": "text"
      },
      "source": [
        "<a href=\"https://colab.research.google.com/github/hjiang13/CodeBERT-classification/blob/main/CodeBERT_classification.ipynb\" target=\"_parent\"><img src=\"https://colab.research.google.com/assets/colab-badge.svg\" alt=\"Open In Colab\"/></a>"
      ]
    },
    {
      "cell_type": "code",
      "execution_count": 2,
      "metadata": {
        "colab": {
          "base_uri": "https://localhost:8080/"
        },
        "id": "2IhUWrknKglL",
        "outputId": "1722e1ba-710c-40c4-fad7-ae783a56b9e9"
      },
      "outputs": [
        {
          "output_type": "stream",
          "name": "stdout",
          "text": [
            "Cloning into 'CodeBERT-classification'...\n",
            "remote: Enumerating objects: 16, done.\u001b[K\n",
            "remote: Counting objects: 100% (16/16), done.\u001b[K\n",
            "remote: Compressing objects: 100% (16/16), done.\u001b[K\n",
            "remote: Total 16 (delta 1), reused 4 (delta 0), pack-reused 0\u001b[K\n",
            "Receiving objects: 100% (16/16), 3.19 MiB | 8.58 MiB/s, done.\n",
            "Resolving deltas: 100% (1/1), done.\n"
          ]
        }
      ],
      "source": [
        "!git clone https://github.com/hjiang13/CodeBERT-classification.git"
      ]
    },
    {
      "cell_type": "code",
      "source": [
        "!ls"
      ],
      "metadata": {
        "colab": {
          "base_uri": "https://localhost:8080/"
        },
        "id": "XfMwgN7lMeOq",
        "outputId": "5a77dd52-d8a5-4d8b-b6f7-2499689fb32e"
      },
      "execution_count": 3,
      "outputs": [
        {
          "output_type": "stream",
          "name": "stdout",
          "text": [
            "CodeBERT-classification  sample_data\n"
          ]
        }
      ]
    },
    {
      "cell_type": "code",
      "source": [
        "import os\n",
        "os.chdir('CodeBERT-classification/')"
      ],
      "metadata": {
        "id": "kd7sp0TtMgKO"
      },
      "execution_count": 4,
      "outputs": []
    },
    {
      "cell_type": "code",
      "source": [
        "os.chdir('code')"
      ],
      "metadata": {
        "id": "JnFeRmTGMoi7"
      },
      "execution_count": 5,
      "outputs": []
    },
    {
      "cell_type": "code",
      "source": [
        "!chmod u+x ./train.sh\n",
        "!./train.sh"
      ],
      "metadata": {
        "colab": {
          "base_uri": "https://localhost:8080/"
        },
        "id": "usDvPdyPMqTk",
        "outputId": "b5373fc6-8c84-40d9-d104-489fa8f6a89c"
      },
      "execution_count": 6,
      "outputs": [
        {
          "output_type": "stream",
          "name": "stdout",
          "text": [
            "03/18/2024 20:27:30 - WARNING - __main__ -   device: cuda, n_gpu: 1\n",
            "config.json: 100%|██████████| 498/498 [00:00<00:00, 2.03MB/s]\n",
            "tokenizer_config.json: 100%|██████████| 25.0/25.0 [00:00<00:00, 103kB/s]\n",
            "vocab.json: 100%|██████████| 899k/899k [00:00<00:00, 18.5MB/s]\n",
            "merges.txt: 100%|██████████| 456k/456k [00:00<00:00, 41.6MB/s]\n",
            "special_tokens_map.json: 100%|██████████| 150/150 [00:00<00:00, 793kB/s]\n",
            "pytorch_model.bin: 100%|██████████| 499M/499M [00:02<00:00, 195MB/s]\n",
            "Some weights of RobertaForSequenceClassification were not initialized from the model checkpoint at microsoft/codebert-base and are newly initialized: ['classifier.dense.bias', 'classifier.dense.weight', 'classifier.out_proj.bias', 'classifier.out_proj.weight']\n",
            "You should probably TRAIN this model on a down-stream task to be able to use it for predictions and inference.\n",
            "03/18/2024 20:27:35 - INFO - __main__ -   Training/evaluation parameters Namespace(train_data_file='../dataset/train.jsonl', output_dir='./saved_models', eval_data_file='../dataset/valid.jsonl', test_data_file='../dataset/test.jsonl', model_name_or_path='microsoft/codebert-base', tokenizer_name='microsoft/codebert-base', block_size=256, do_train=True, do_eval=False, do_test=False, train_batch_size=8, eval_batch_size=16, learning_rate=2e-05, weight_decay=0.0, adam_epsilon=1e-08, max_grad_norm=1.0, warmup_steps=0, seed=123456, num_train_epochs=5, n_gpu=1, device=device(type='cuda'))\n",
            "03/18/2024 20:27:41 - INFO - __main__ -   *** Example ***\n",
            "03/18/2024 20:27:41 - INFO - __main__ -   label: 3\n",
            "03/18/2024 20:27:41 - INFO - __main__ -   input_tokens: ['<s>', 'function', '(', 'prim', 'itive', '){', '_completed', '++;', '_if', '_(', '_primitive', '_)', '{', '_var', '_geometry', '_=', '_new', '_Terra', 'former', '.', 'Prim', 'itive', '(', 'prim', 'itive', '.', 'ge', 'ometry', ');', '_if', '_(', 'shape', 'Ge', 'ometry', 'Test', '(', 'ge', 'ometry', ',', '_shape', '))', '{', '_if', '_(', 'self', '._', 'stream', ')', '_{', '_if', '_(', 'com', 'pleted', '_===', '_found', '.', 'length', ')', '_{', '_if', '_(', 'operation', 'Name', '_==', '_\"', 'within', '\")', '_{', '_self', '._', 'stream', '.', 'em', 'it', '(\"', 'done', '\",', '_primitive', ');', '_}', '_else', '_{', '_self', '._', 'stream', '.', 'em', 'it', '(\"', 'data', '\",', '_primitive', ');', '_}', '_self', '._', 'stream', '.', 'em', 'it', '(\"', 'end', '\");', '_}', '_else', '_{', '_self', '._', 'stream', '.', 'em', 'it', '(\"', 'data', '\",', '_primitive', ');', '_}', '_}', '_else', '_{', '_results', '.', 'push', '(', 'prim', 'itive', ');', '_}', '_}', '_if', '(', 'com', 'pleted', '_>=', '_found', '.', 'length', '){', '_if', '(', '!', 'errors', '){', '_if', '_(', 'self', '._', 'stream', ')', '_{', '_self', '._', 'stream', '_=', '_null', ';', '_}', '_else', '_if', '_(', 'callback', ')', '_{', '_callback', '(', '_null', ',', '_results', '_);', '_}', '_}', '_else', '_{', '_if', '_(', 'callback', ')', '_{', '_callback', '(\"', 'Could', '_not', '_get', '_all', '_ge', 'omet', 'ries', '\",', '_null', ');', '_}', '_}', '_}', '_}', '_}', '</s>']\n",
            "03/18/2024 20:27:41 - INFO - __main__ -   input_ids: 0 35435 1640 31044 15589 48512 2121 49789 114 36 36005 4839 45152 15747 37639 5457 92 29871 22098 4 44015 15589 1640 31044 15589 4 1899 40899 4397 114 36 43882 20981 40899 34603 1640 1899 40899 6 3989 35122 45152 114 36 13367 48030 8656 43 25522 114 36 175 42711 47408 303 4 16096 43 25522 114 36 20829 31723 45994 22 34451 8070 25522 1403 48030 8656 4 991 405 46469 27057 1297 36005 4397 35524 1493 25522 1403 48030 8656 4 991 405 46469 23687 1297 36005 4397 35524 1403 48030 8656 4 991 405 46469 1397 45751 35524 1493 25522 1403 48030 8656 4 991 405 46469 23687 1297 36005 4397 35524 35524 1493 25522 775 4 41935 1640 31044 15589 4397 35524 35524 114 1640 175 42711 49095 303 4 16096 48512 114 1640 328 48487 48512 114 36 13367 48030 8656 43 25522 1403 48030 8656 5457 23796 131 35524 1493 114 36 49499 43 25522 46557 1640 23796 6 775 47162 35524 35524 1493 25522 114 36 49499 43 25522 46557 46469 35299 45 120 70 5473 11174 4458 1297 23796 4397 35524 35524 35524 35524 35524 2 1 1 1 1 1 1 1 1 1 1 1 1 1 1 1 1 1 1 1 1 1 1 1 1 1 1 1 1 1 1 1 1 1 1 1 1 1 1 1 1 1 1 1 1 1 1 1 1 1 1 1 1 1 1 1 1 1 1 1\n",
            "03/18/2024 20:27:41 - INFO - __main__ -   *** Example ***\n",
            "03/18/2024 20:27:41 - INFO - __main__ -   label: 3\n",
            "03/18/2024 20:27:41 - INFO - __main__ -   input_tokens: ['<s>', 'function', '_Sub', 'Stream', '(', 'stream', ',', '_name', ',', '_options', ')', '_{', '_if', '_(!', '(', 'this', '_instance', 'of', '_Sub', 'Stream', '))', '_return', '_new', '_Sub', 'Stream', '(', 'stream', ',', '_name', ',', '_options', ');', '_options', '_=', '_options', '_||', '_{', '};', '_this', '.', 'ready', 'State', '_=', '_stream', '.', 'ready', 'State', ';', '_//', '_Copy', '_the', '_current', '_ready', 'State', '.', '_this', '.', 'stream', '_=', '_stream', ';', '_//', '_The', '_under', 'l', 'aying', '_stream', '.', '_this', '.', 'name', '_=', '_name', ';', '_//', '_The', '_stream', '_namespace', '/', 'name', '.', '_this', '.', 'prim', 'us', '_=', '_options', '.', 'prim', 'us', ';', '_//', '_Prim', 'us', '_reference', '.', '_//', '_//', '_Register', '_the', '_Sub', 'Stream', '_on', '_the', '_socket', '.', '_//', '_if', '_(!', 'stream', '.', 'stream', 's', ')', '_stream', '.', 'stream', 's', '_=', '_{', '};', '_if', '_(!', 'stream', '.', 'stream', 's', '[', 'name', '])', '_stream', '.', 'stream', 's', '[', 'name', ']', '_=', '_this', ';', '_Stream', '.', 'call', '(', 'this', ');', '_//', '_//', '_No', '_need', '_to', '_continue', '_with', '_the', '_execution', '_if', '_we', '_don', \"'t\", '_have', '_any', '_events', '_that', '_//', '_need', '_to', '_be', '_prox', 'ied', '.', '_//', '_if', '_(!', 'options', '.', 'proxy', ')', '_return', ';', '_for', '_(', 'var', '_i', '_=', '_0', ',', '_l', '_=', '_options', '.', 'proxy', '.', 'length', ',', '_event', ';', '_i', '_<', '_l', ';', '_i', '++)', '_{', '_event', '_=', '_options', '.', 'proxy', '[', 'i', '];', '_this', '.', 'stream', '.', 'on', '(', 'event', ',', '_this', '.', 'em', 'its', '(', 'event', '));', '_}', '_}', '</s>']\n",
            "03/18/2024 20:27:41 - INFO - __main__ -   input_ids: 0 35435 4052 36757 1640 8656 6 766 6 1735 43 25522 114 48209 1640 9226 4327 1116 4052 36757 35122 671 92 4052 36757 1640 8656 6 766 6 1735 4397 1735 5457 1735 45056 25522 49423 42 4 16402 13360 5457 4615 4 16402 13360 131 21277 22279 5 595 1227 13360 4 42 4 8656 5457 4615 131 21277 20 223 462 11918 4615 4 42 4 13650 5457 766 131 21277 20 4615 49010 73 13650 4 42 4 31044 687 5457 1735 4 31044 687 131 21277 15896 687 5135 4 21277 21277 10315 5 4052 36757 15 5 37062 4 21277 114 48209 8656 4 8656 29 43 4615 4 8656 29 5457 25522 49423 114 48209 8656 4 8656 29 10975 13650 45587 4615 4 8656 29 10975 13650 742 5457 42 131 16183 4 16395 1640 9226 4397 21277 21277 440 240 7 535 19 5 7356 114 52 218 75 33 143 1061 14 21277 240 7 28 43860 2550 4 21277 114 48209 45012 4 47315 43 671 131 13 36 10806 939 5457 321 6 784 5457 1735 4 47315 4 16096 6 515 131 939 28696 784 131 939 49346 25522 515 5457 1735 4 47315 10975 118 44082 42 4 8656 4 261 1640 21680 6 42 4 991 2629 1640 21680 48749 35524 35524 2 1 1 1 1 1 1 1 1 1 1 1 1 1 1 1 1 1 1 1 1 1 1 1 1 1 1 1\n",
            "03/18/2024 20:27:41 - INFO - __main__ -   *** Example ***\n",
            "03/18/2024 20:27:41 - INFO - __main__ -   label: 2\n",
            "03/18/2024 20:27:41 - INFO - __main__ -   input_tokens: ['<s>', 'public', '_function', '_show', '(', 'string', '_$', 'package', ',', '_string', '_$', 'path', ',', '_Dash', 'board', '_$', 'dash', 'board', ')', '_{', '_$', 'dir', '_=', '_$', 'dash', 'board', '_->', 'get', 'Public', 'Directory', '()', '_->', 'get', '($', 'package', ');', '_abort', '_', 'if', '(', 'is', '_', 'null', '($', 'dir', '),', '_404', ');', '_$', 'resources', '_=', '_(', 'new', '_Finder', '())', '_->', 'ignore', 'Un', 'readable', 'D', 'irs', '()', '_->', 'follow', 'Links', '()', '_->', 'in', '($', 'dir', ')', '_->', 'files', '()', '_->', 'path', '(', 'dir', 'name', '($', 'path', '))', '_->', 'name', '(', 'bas', 'ename', '($', 'path', '));', '_$', 'iterator', '_=', '_tap', '($', 'resources', '->', 'get', 'Iterator', '())', '_->', 'rew', 'ind', '();', '_$', 'this', '->', 'resource', '_=', '_$', 'iterator', '->', 'current', '();', '_abort', '_', 'if', '(', 'is', '_', 'null', '($', 'this', '->', 'resource', '),', '_404', ');', '_$', 'm', 'ime', '_=', '_new', '_M', 'ime', 'Types', '();', '_$', 'm', 'ime', '_=', '_$', 'm', 'ime', '->', 'get', 'M', 'ime', 'Type', '($', 'this', '->', 'resource', '->', 'get', 'Ext', 'ension', '());', '_return', '_response', '()', '->', 'file', '($', 'this', '->', 'resource', '->', 'get', 'Real', 'Path', '(),', '_[', \"_'\", 'Content', '-', 'Type', \"'\", '_=>', '_$', 'm', 'ime', '_??', \"_'\", 'text', '/', 'plain', \"',\", \"_'\", 'Cache', '-', 'Control', \"'\", '_=>', \"_'\", 'public', ',', '_max', '-', 'age', '=', '315', '36', '000', \"',\", '_]', ');', '_}', '</s>']\n",
            "03/18/2024 20:27:41 - INFO - __main__ -   input_ids: 0 15110 5043 311 1640 20951 68 46181 6 6755 68 22609 6 18946 4929 68 42360 4929 43 25522 68 41292 5457 68 42360 4929 43839 6460 22649 49226 43048 43839 6460 44688 46181 4397 34771 1215 1594 1640 354 1215 15755 44688 41292 238 37014 4397 68 40897 5457 36 4651 42995 49338 43839 47072 9685 46753 495 21098 43048 43839 28481 45603 43048 43839 179 44688 41292 43 43839 42018 43048 43839 22609 1640 41292 13650 44688 22609 35122 43839 13650 1640 15609 45838 44688 22609 48749 68 49861 5457 5797 44688 40897 46613 6460 49981 49338 43839 10461 2028 47006 68 9226 46613 44814 5457 68 49861 46613 28311 47006 34771 1215 1594 1640 354 1215 15755 44688 9226 46613 44814 238 37014 4397 68 119 4235 5457 92 256 4235 48815 47006 68 119 4235 5457 68 119 4235 46613 6460 448 4235 40118 44688 9226 46613 44814 46613 6460 40884 17699 49291 671 1263 43048 46613 21710 44688 9226 46613 44814 46613 6460 17105 42119 49196 646 128 45463 12 40118 108 46161 68 119 4235 42254 128 29015 73 21306 3934 128 48572 12 43405 108 46161 128 15110 6 19220 12 1580 5214 28355 3367 151 3934 27779 4397 35524 2 1 1 1 1 1 1 1 1 1 1 1 1 1 1 1 1 1 1 1 1 1 1 1 1 1 1 1 1 1 1 1 1 1 1 1 1 1 1 1 1 1 1 1 1 1 1 1\n",
            "/usr/local/lib/python3.10/dist-packages/torch/utils/data/dataloader.py:558: UserWarning: This DataLoader will create 4 worker processes in total. Our suggested max number of worker in current system is 2, which is smaller than what this DataLoader is going to create. Please be aware that excessive worker creation might get DataLoader running slow or even freeze, lower the worker number to avoid potential slowness/freeze if necessary.\n",
            "  warnings.warn(_create_warning_msg(\n",
            "/usr/local/lib/python3.10/dist-packages/transformers/optimization.py:429: FutureWarning: This implementation of AdamW is deprecated and will be removed in a future version. Use the PyTorch implementation torch.optim.AdamW instead, or set `no_deprecation_warning=True` to disable this warning\n",
            "  warnings.warn(\n",
            "03/18/2024 20:27:43 - INFO - __main__ -   ***** Running training *****\n",
            "03/18/2024 20:27:43 - INFO - __main__ -     Num examples = 6000\n",
            "03/18/2024 20:27:43 - INFO - __main__ -     Num Epochs = 5\n",
            "03/18/2024 20:27:43 - INFO - __main__ -     batch size = 8\n",
            "03/18/2024 20:27:43 - INFO - __main__ -     Total optimization steps = 3750\n",
            "  0%|          | 0/750 [00:00<?, ?it/s]/usr/local/lib/python3.10/dist-packages/torch/utils/data/dataloader.py:558: UserWarning: This DataLoader will create 4 worker processes in total. Our suggested max number of worker in current system is 2, which is smaller than what this DataLoader is going to create. Please be aware that excessive worker creation might get DataLoader running slow or even freeze, lower the worker number to avoid potential slowness/freeze if necessary.\n",
            "  warnings.warn(_create_warning_msg(\n",
            "epoch 0 loss 0.954: 100%|██████████| 750/750 [04:25<00:00,  2.82it/s]\n",
            "03/18/2024 20:32:14 - INFO - __main__ -   ***** Running evaluation *****\n",
            "03/18/2024 20:32:14 - INFO - __main__ -     Num examples = 6000\n",
            "03/18/2024 20:32:14 - INFO - __main__ -     Batch size = 16\n",
            "03/18/2024 20:33:35 - INFO - __main__ -     eval_loss = 0.0031\n",
            "03/18/2024 20:33:35 - INFO - __main__ -     eval_acc = 0.9998\n",
            "03/18/2024 20:33:35 - INFO - __main__ -     ********************\n",
            "03/18/2024 20:33:35 - INFO - __main__ -     Best acc:0.9998\n",
            "03/18/2024 20:33:35 - INFO - __main__ -     ********************\n",
            "03/18/2024 20:33:40 - INFO - __main__ -   Saving model checkpoint to ./saved_models/checkpoint-best-acc/model.bin\n",
            "epoch 1 loss 0.002: 100%|██████████| 750/750 [04:32<00:00,  2.75it/s]\n",
            "03/18/2024 20:38:17 - INFO - __main__ -   ***** Running evaluation *****\n",
            "03/18/2024 20:38:17 - INFO - __main__ -     Num examples = 6000\n",
            "03/18/2024 20:38:17 - INFO - __main__ -     Batch size = 16\n",
            "03/18/2024 20:39:37 - INFO - __main__ -     eval_loss = 0.0008\n",
            "03/18/2024 20:39:37 - INFO - __main__ -     eval_acc = 1.0\n",
            "03/18/2024 20:39:37 - INFO - __main__ -     ********************\n",
            "03/18/2024 20:39:37 - INFO - __main__ -     Best acc:1.0\n",
            "03/18/2024 20:39:37 - INFO - __main__ -     ********************\n",
            "03/18/2024 20:39:43 - INFO - __main__ -   Saving model checkpoint to ./saved_models/checkpoint-best-acc/model.bin\n",
            "epoch 2 loss 0.001: 100%|██████████| 750/750 [04:32<00:00,  2.76it/s]\n",
            "03/18/2024 20:44:19 - INFO - __main__ -   ***** Running evaluation *****\n",
            "03/18/2024 20:44:19 - INFO - __main__ -     Num examples = 6000\n",
            "03/18/2024 20:44:19 - INFO - __main__ -     Batch size = 16\n",
            "03/18/2024 20:45:39 - INFO - __main__ -     eval_loss = 0.0005\n",
            "03/18/2024 20:45:39 - INFO - __main__ -     eval_acc = 1.0\n",
            "epoch 3 loss 0.001: 100%|██████████| 750/750 [04:32<00:00,  2.75it/s]\n",
            "03/18/2024 20:50:15 - INFO - __main__ -   ***** Running evaluation *****\n",
            "03/18/2024 20:50:15 - INFO - __main__ -     Num examples = 6000\n",
            "03/18/2024 20:50:15 - INFO - __main__ -     Batch size = 16\n",
            "03/18/2024 20:51:35 - INFO - __main__ -     eval_loss = 0.0003\n",
            "03/18/2024 20:51:35 - INFO - __main__ -     eval_acc = 1.0\n",
            "epoch 4 loss 0.001: 100%|██████████| 750/750 [04:31<00:00,  2.76it/s]\n",
            "03/18/2024 20:56:11 - INFO - __main__ -   ***** Running evaluation *****\n",
            "03/18/2024 20:56:11 - INFO - __main__ -     Num examples = 6000\n",
            "03/18/2024 20:56:11 - INFO - __main__ -     Batch size = 16\n",
            "03/18/2024 20:57:31 - INFO - __main__ -     eval_loss = 0.0003\n",
            "03/18/2024 20:57:31 - INFO - __main__ -     eval_acc = 1.0\n"
          ]
        }
      ]
    },
    {
      "cell_type": "code",
      "source": [],
      "metadata": {
        "id": "K9xB9Kl4O4km"
      },
      "execution_count": null,
      "outputs": []
    }
  ]
}